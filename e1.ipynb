{
 "cells": [
  {
   "cell_type": "code",
   "execution_count": 48,
   "metadata": {},
   "outputs": [],
   "source": [
    "import os\n",
    "from Bio import SeqIO\n",
    "from Bio import Seq\n",
    "\n",
    "SAMPLE_DATA_DIR = \"sample_data\""
   ]
  },
  {
   "cell_type": "code",
   "execution_count": 52,
   "metadata": {},
   "outputs": [
    {
     "name": "stdout",
     "output_type": "stream",
     "text": [
      "gi|16127995|ref|NP_414542.1|: MKRISTTITT...ITITTGNGAG\n",
      "gi|16127996|ref|NP_414543.1|: MRVLKFGGTS...LRTLSWKLGV\n",
      "gi|16127997|ref|NP_414544.1|: MVKVYAPASS...DTAGARVLEN\n",
      "gi|16127998|ref|NP_414545.1|: MKLYNLKDHN...ALRKLMMNHQ\n",
      "gi|16127999|ref|NP_414546.1|: MKKMQSIVLA...GGHGPGKHHR\n",
      "gi|16128000|ref|NP_414547.1|: MLILISPAKT...ELVFKRYEQR\n",
      "gi|16128001|ref|NP_414548.1|: MPDFFSFINS...PDAWDDVSQE\n",
      "gi|16128002|ref|NP_414549.1|: MTDKLTSLRQ...KLEKMIGDLL\n",
      "gi|16128003|ref|NP_414550.1|: MNTLRIGLVS...PKSARRDVSE\n",
      "gi|16128004|ref|NP_414551.1|: MGNTKLANPA...RTVLPIGESH\n"
     ]
    }
   ],
   "source": [
    "for i, record in enumerate(SeqIO.parse(os.path.join(SAMPLE_DATA_DIR, \"NC_000913.faa\"), format = \"fasta\")):\n",
    "    # print(vars(record))\n",
    "    if i >= 10:\n",
    "        break\n",
    "    print(f\"{record.id}: {record.seq[: 10]}...{record.seq[-10: ]}\")"
   ]
  },
  {
   "cell_type": "code",
   "execution_count": 34,
   "metadata": {},
   "outputs": [],
   "source": [
    "single_record = SeqIO.read(os.path.join(SAMPLE_DATA_DIR, \"NC_000913.gbk\"), format = \"genbank\")"
   ]
  },
  {
   "cell_type": "code",
   "execution_count": 38,
   "metadata": {},
   "outputs": [
    {
     "data": {
      "text/plain": [
       "['annotations',\n",
       " 'count',\n",
       " 'dbxrefs',\n",
       " 'description',\n",
       " 'features',\n",
       " 'format',\n",
       " 'id',\n",
       " 'islower',\n",
       " 'isupper',\n",
       " 'letter_annotations',\n",
       " 'lower',\n",
       " 'name',\n",
       " 'reverse_complement',\n",
       " 'seq',\n",
       " 'translate',\n",
       " 'upper']"
      ]
     },
     "execution_count": 38,
     "metadata": {},
     "output_type": "execute_result"
    }
   ],
   "source": [
    "list(filter(lambda x: not (x.startswith(\"__\") or x.startswith(\"_\")), dir(single_record)))"
   ]
  },
  {
   "cell_type": "code",
   "execution_count": 41,
   "metadata": {},
   "outputs": [
    {
     "data": {
      "text/plain": [
       "['back_transcribe',\n",
       " 'complement',\n",
       " 'complement_rna',\n",
       " 'count',\n",
       " 'count_overlap',\n",
       " 'defined',\n",
       " 'defined_ranges',\n",
       " 'endswith',\n",
       " 'find',\n",
       " 'index',\n",
       " 'islower',\n",
       " 'isupper',\n",
       " 'join',\n",
       " 'lower',\n",
       " 'lstrip',\n",
       " 'replace',\n",
       " 'reverse_complement',\n",
       " 'reverse_complement_rna',\n",
       " 'rfind',\n",
       " 'rindex',\n",
       " 'rsplit',\n",
       " 'rstrip',\n",
       " 'split',\n",
       " 'startswith',\n",
       " 'strip',\n",
       " 'transcribe',\n",
       " 'translate',\n",
       " 'ungap',\n",
       " 'upper']"
      ]
     },
     "execution_count": 41,
     "metadata": {},
     "output_type": "execute_result"
    }
   ],
   "source": [
    "list(filter(lambda x: not (x.startswith(\"__\") or x.startswith(\"_\")), dir(single_record.seq)))"
   ]
  },
  {
   "cell_type": "code",
   "execution_count": 51,
   "metadata": {},
   "outputs": [
    {
     "data": {
      "text/plain": [
       "4641652"
      ]
     },
     "execution_count": 51,
     "metadata": {},
     "output_type": "execute_result"
    }
   ],
   "source": [
    "len(single_record.seq)"
   ]
  },
  {
   "cell_type": "code",
   "execution_count": 50,
   "metadata": {},
   "outputs": [
    {
     "data": {
      "text/plain": [
       "SeqRecord(seq=Seq('MNRTSPYYCRRSVLSLLISALIYAPPGMAAFTTNVIGVVNDETVDGNQKVDERG...WSF'), id='gi|90111474|ref|NP_417134.2|', name='gi|90111474|ref|NP_417134.2|', description='gi|90111474|ref|NP_417134.2| adhesin-like autotransporter [Escherichia coli str. K-12 substr. MG1655]', dbxrefs=[])"
      ]
     },
     "execution_count": 50,
     "metadata": {},
     "output_type": "execute_result"
    }
   ],
   "source": [
    "def gc_content(seq: Seq) -> float:\n",
    "    return seq.count(\"G\") + seq.count(\"C\") / len(seq)\n",
    "\n",
    "def highest_gc_content(file: str, format: str) -> Seq:\n",
    "    return max(\n",
    "        (record for record in SeqIO.parse(file, format)),\n",
    "        key = gc_content\n",
    "    )\n",
    "\n",
    "highest_gc_content(os.path.join(SAMPLE_DATA_DIR, \"NC_000913.faa\"), \"fasta\")"
   ]
  }
 ],
 "metadata": {
  "kernelspec": {
   "display_name": "venv",
   "language": "python",
   "name": "python3"
  },
  "language_info": {
   "codemirror_mode": {
    "name": "ipython",
    "version": 3
   },
   "file_extension": ".py",
   "mimetype": "text/x-python",
   "name": "python",
   "nbconvert_exporter": "python",
   "pygments_lexer": "ipython3",
   "version": "3.11.1"
  },
  "orig_nbformat": 4,
  "vscode": {
   "interpreter": {
    "hash": "f158e413f61bcb504ed2e0505c6ebdb5e5a4a3f2a9c1e8e3bce22fdc8ad6c1a3"
   }
  }
 },
 "nbformat": 4,
 "nbformat_minor": 2
}
